{
 "cells": [
  {
   "cell_type": "markdown",
   "metadata": {},
   "source": [
    "Teste forbindelse til NVDB\n",
    "Import fra Alex pga geoJson stotte\n",
    "\n",
    "\n",
    "Requirements: \n",
    "\n"
   ]
  },
  {
   "cell_type": "code",
   "execution_count": 19,
   "metadata": {},
   "outputs": [],
   "source": [
    "# -*- coding: UTF-8 -*-\n",
    "from itertools import count\n",
    "import nvdbapiv3 as nvdb\n",
    "from nvdbapiv3 import nvdb2geojson\n",
    "import geopandas as gpd\n",
    "from matplotlib.pyplot import plot\n",
    "\n",
    "#help(nvdb.nvdbFagdata)\n",
    "def get_fagdata(FAG):\n",
    "    q = nvdb.nvdbFagdata(FAG) # 79 Stikkrenne/Kulvert\n",
    "    # q.filter( { 'tidspunkt' : '2022-09-30' } ) # Hvis behov for historiske data\n",
    "    # q.filter( { 'fylke' : 34 } )\n",
    "    q.filter( {'vegsystemreferanse': 'EVK'})\n",
    "    q.filter( {'vegsystemreferanse': 'RVK'})\n",
    "    # q.filter( {\"egenskap\": \"4780 != null\"}) #egengeometri Punkt\n",
    "    q.filter({\"egenskap\": \"5055 >= '2019-01-01'\"})\n",
    "    q_geo = nvdb2geojson.fagdata2geojson(q)\n",
    "    qdf = gpd.GeoDataFrame.from_features(q_geo['features'])\n",
    "    qdf.set_crs(epsg=25833)\n",
    "    # qdf.set_crs(epsg=4326)\n",
    "    # EPSG:25833\n",
    "    return qdf\n",
    "\n",
    "myFag_NVDB = get_fagdata(570) #Trafikkulykke\n",
    "  \n",
    "# antEgenGeom = count(myFag_Stikkrenne)\n",
    "# antEgenGeom\n",
    "# myFag_Stikkrenne.head(3)\n",
    "myFag_NVDB.to_csv('../data/NVDB_trafikkulykke.csv')\n"
   ]
  },
  {
   "cell_type": "code",
   "execution_count": 29,
   "metadata": {},
   "outputs": [
    {
     "data": {
      "text/plain": [
       "True"
      ]
     },
     "execution_count": 29,
     "metadata": {},
     "output_type": "execute_result"
    }
   ],
   "source": [
    "import webbrowser\n",
    "from pathlib import Path\n",
    "\n",
    "myFag_NVDB.head(3)\n",
    "# myFag_NVDB.plot(figsize=(10,15))\n",
    "m = myFag_NVDB.explore(column=\"Ulykkestype (Ny)\",cmap='Set2', legend=True)\n",
    "# m = myFag_NVDB.explore(column='pop_est',cmap='Set2')\n",
    "f = Path.cwd().joinpath(\"map.html\")\n",
    "m.save(str(f))\n",
    "webbrowser.open(\"file://\" + str(f))"
   ]
  },
  {
   "cell_type": "code",
   "execution_count": null,
   "metadata": {},
   "outputs": [],
   "source": []
  }
 ],
 "metadata": {
  "kernelspec": {
   "display_name": "Python 3.9.11 64-bit ('arcgispro-py3Clone')",
   "language": "python",
   "name": "python3"
  },
  "language_info": {
   "codemirror_mode": {
    "name": "ipython",
    "version": 3
   },
   "file_extension": ".py",
   "mimetype": "text/x-python",
   "name": "python",
   "nbconvert_exporter": "python",
   "pygments_lexer": "ipython3",
   "version": "3.9.11"
  },
  "orig_nbformat": 4,
  "vscode": {
   "interpreter": {
    "hash": "1b118b25502b380a20ad97efc775aa8461ca2120714a98021445371f8531fe1b"
   }
  }
 },
 "nbformat": 4,
 "nbformat_minor": 2
}
